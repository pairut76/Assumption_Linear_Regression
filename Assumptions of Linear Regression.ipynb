{
 "cells": [
  {
   "cell_type": "code",
   "execution_count": 2,
   "metadata": {},
   "outputs": [],
   "source": [
    "import matplotlib.pyplot as plt\n",
    "import numpy as np\n",
    "import pandas as pd\n",
    "from sklearn import linear_model\n",
    "import statsmodels.formula.api as smf\n",
    "from sqlalchemy import create_engine"
   ]
  },
  {
   "cell_type": "code",
   "execution_count": 3,
   "metadata": {},
   "outputs": [],
   "source": [
    "postgres_user = ,
    "postgres_pw = <password>,
    "postgres_host = '",
    "postgres_port = ''\n",
    "postgres_db = 'weatherinszeged'"
   ]
  },
  {
   "cell_type": "code",
   "execution_count": 4,
   "metadata": {},
   "outputs": [],
   "source": [
    "engine = create_engine('postgresql://{}:{}@{}:{}/{}'.format(\n",
    "    postgres_user, postgres_pw, postgres_host, postgres_port, postgres_db))\n",
    "\n",
    "data = pd.read_sql_query('select * from weatherinszeged',con=engine)\n",
    "\n",
    "# no need for an open connection, as we're only doing a single query\n",
    "engine.dispose()\n",
    "\n",
    "temp_df = data.copy()"
   ]
  },
  {
   "cell_type": "code",
   "execution_count": 7,
   "metadata": {},
   "outputs": [
    {
     "name": "stdout",
     "output_type": "stream",
     "text": [
      "<class 'pandas.core.frame.DataFrame'>\n",
      "RangeIndex: 96453 entries, 0 to 96452\n",
      "Data columns (total 12 columns):\n",
      "date                   96453 non-null datetime64[ns, UTC]\n",
      "summary                96453 non-null object\n",
      "preciptype             96453 non-null object\n",
      "temperature            96453 non-null float64\n",
      "apparenttemperature    96453 non-null float64\n",
      "humidity               96453 non-null float64\n",
      "windspeed              96453 non-null float64\n",
      "windbearing            96453 non-null float64\n",
      "visibility             96453 non-null float64\n",
      "loudcover              96453 non-null float64\n",
      "pressure               96453 non-null float64\n",
      "dailysummary           96453 non-null object\n",
      "dtypes: datetime64[ns, UTC](1), float64(8), object(3)\n",
      "memory usage: 8.8+ MB\n",
      "None\n"
     ]
    },
    {
     "data": {
      "text/html": [
       "<div>\n",
       "<style scoped>\n",
       "    .dataframe tbody tr th:only-of-type {\n",
       "        vertical-align: middle;\n",
       "    }\n",
       "\n",
       "    .dataframe tbody tr th {\n",
       "        vertical-align: top;\n",
       "    }\n",
       "\n",
       "    .dataframe thead th {\n",
       "        text-align: right;\n",
       "    }\n",
       "</style>\n",
       "<table border=\"1\" class=\"dataframe\">\n",
       "  <thead>\n",
       "    <tr style=\"text-align: right;\">\n",
       "      <th></th>\n",
       "      <th>date</th>\n",
       "      <th>summary</th>\n",
       "      <th>preciptype</th>\n",
       "      <th>temperature</th>\n",
       "      <th>apparenttemperature</th>\n",
       "      <th>humidity</th>\n",
       "      <th>windspeed</th>\n",
       "      <th>windbearing</th>\n",
       "      <th>visibility</th>\n",
       "      <th>loudcover</th>\n",
       "      <th>pressure</th>\n",
       "      <th>dailysummary</th>\n",
       "    </tr>\n",
       "  </thead>\n",
       "  <tbody>\n",
       "    <tr>\n",
       "      <th>0</th>\n",
       "      <td>2006-03-31 22:00:00+00:00</td>\n",
       "      <td>Partly Cloudy</td>\n",
       "      <td>rain</td>\n",
       "      <td>9.472222</td>\n",
       "      <td>7.388889</td>\n",
       "      <td>0.89</td>\n",
       "      <td>14.1197</td>\n",
       "      <td>251.0</td>\n",
       "      <td>15.8263</td>\n",
       "      <td>0.0</td>\n",
       "      <td>1015.13</td>\n",
       "      <td>Partly cloudy throughout the day.</td>\n",
       "    </tr>\n",
       "    <tr>\n",
       "      <th>1</th>\n",
       "      <td>2006-03-31 23:00:00+00:00</td>\n",
       "      <td>Partly Cloudy</td>\n",
       "      <td>rain</td>\n",
       "      <td>9.355556</td>\n",
       "      <td>7.227778</td>\n",
       "      <td>0.86</td>\n",
       "      <td>14.2646</td>\n",
       "      <td>259.0</td>\n",
       "      <td>15.8263</td>\n",
       "      <td>0.0</td>\n",
       "      <td>1015.63</td>\n",
       "      <td>Partly cloudy throughout the day.</td>\n",
       "    </tr>\n",
       "    <tr>\n",
       "      <th>2</th>\n",
       "      <td>2006-04-01 00:00:00+00:00</td>\n",
       "      <td>Mostly Cloudy</td>\n",
       "      <td>rain</td>\n",
       "      <td>9.377778</td>\n",
       "      <td>9.377778</td>\n",
       "      <td>0.89</td>\n",
       "      <td>3.9284</td>\n",
       "      <td>204.0</td>\n",
       "      <td>14.9569</td>\n",
       "      <td>0.0</td>\n",
       "      <td>1015.94</td>\n",
       "      <td>Partly cloudy throughout the day.</td>\n",
       "    </tr>\n",
       "    <tr>\n",
       "      <th>3</th>\n",
       "      <td>2006-04-01 01:00:00+00:00</td>\n",
       "      <td>Partly Cloudy</td>\n",
       "      <td>rain</td>\n",
       "      <td>8.288889</td>\n",
       "      <td>5.944444</td>\n",
       "      <td>0.83</td>\n",
       "      <td>14.1036</td>\n",
       "      <td>269.0</td>\n",
       "      <td>15.8263</td>\n",
       "      <td>0.0</td>\n",
       "      <td>1016.41</td>\n",
       "      <td>Partly cloudy throughout the day.</td>\n",
       "    </tr>\n",
       "    <tr>\n",
       "      <th>4</th>\n",
       "      <td>2006-04-01 02:00:00+00:00</td>\n",
       "      <td>Mostly Cloudy</td>\n",
       "      <td>rain</td>\n",
       "      <td>8.755556</td>\n",
       "      <td>6.977778</td>\n",
       "      <td>0.83</td>\n",
       "      <td>11.0446</td>\n",
       "      <td>259.0</td>\n",
       "      <td>15.8263</td>\n",
       "      <td>0.0</td>\n",
       "      <td>1016.51</td>\n",
       "      <td>Partly cloudy throughout the day.</td>\n",
       "    </tr>\n",
       "  </tbody>\n",
       "</table>\n",
       "</div>"
      ],
      "text/plain": [
       "                       date        summary preciptype  temperature  \\\n",
       "0 2006-03-31 22:00:00+00:00  Partly Cloudy       rain     9.472222   \n",
       "1 2006-03-31 23:00:00+00:00  Partly Cloudy       rain     9.355556   \n",
       "2 2006-04-01 00:00:00+00:00  Mostly Cloudy       rain     9.377778   \n",
       "3 2006-04-01 01:00:00+00:00  Partly Cloudy       rain     8.288889   \n",
       "4 2006-04-01 02:00:00+00:00  Mostly Cloudy       rain     8.755556   \n",
       "\n",
       "   apparenttemperature  humidity  windspeed  windbearing  visibility  \\\n",
       "0             7.388889      0.89    14.1197        251.0     15.8263   \n",
       "1             7.227778      0.86    14.2646        259.0     15.8263   \n",
       "2             9.377778      0.89     3.9284        204.0     14.9569   \n",
       "3             5.944444      0.83    14.1036        269.0     15.8263   \n",
       "4             6.977778      0.83    11.0446        259.0     15.8263   \n",
       "\n",
       "   loudcover  pressure                       dailysummary  \n",
       "0        0.0   1015.13  Partly cloudy throughout the day.  \n",
       "1        0.0   1015.63  Partly cloudy throughout the day.  \n",
       "2        0.0   1015.94  Partly cloudy throughout the day.  \n",
       "3        0.0   1016.41  Partly cloudy throughout the day.  \n",
       "4        0.0   1016.51  Partly cloudy throughout the day.  "
      ]
     },
     "execution_count": 7,
     "metadata": {},
     "output_type": "execute_result"
    }
   ],
   "source": [
    "print(temp_df.info())\n",
    "temp_df.head()"
   ]
  },
  {
   "cell_type": "code",
   "execution_count": 28,
   "metadata": {},
   "outputs": [],
   "source": [
    "y = temp_df['temperature']\n",
    "X = temp_df[['humidity', 'windspeed', 'windbearing', 'pressure']]"
   ]
  },
  {
   "cell_type": "code",
   "execution_count": 11,
   "metadata": {},
   "outputs": [
    {
     "data": {
      "text/plain": [
       "False    96453\n",
       "Name: temperature, dtype: int64"
      ]
     },
     "execution_count": 11,
     "metadata": {},
     "output_type": "execute_result"
    }
   ],
   "source": [
    "y.isnull().value_counts()"
   ]
  },
  {
   "cell_type": "code",
   "execution_count": 13,
   "metadata": {},
   "outputs": [
    {
     "name": "stdout",
     "output_type": "stream",
     "text": [
      "humidity\n",
      "False    96453\n",
      "Name: humidity, dtype: int64\n",
      "\n",
      "\n",
      "windspeed\n",
      "False    96453\n",
      "Name: windspeed, dtype: int64\n",
      "\n",
      "\n",
      "windbearing\n",
      "False    96453\n",
      "Name: windbearing, dtype: int64\n",
      "\n",
      "\n",
      "pressure\n",
      "False    96453\n",
      "Name: pressure, dtype: int64\n",
      "\n",
      "\n"
     ]
    }
   ],
   "source": [
    "for col in X.columns:\n",
    "    print(col)\n",
    "    print(X[col].isnull().value_counts())\n",
    "    print('\\n')"
   ]
  },
  {
   "cell_type": "code",
   "execution_count": 14,
   "metadata": {},
   "outputs": [
    {
     "data": {
      "text/plain": [
       "LinearRegression()"
      ]
     },
     "execution_count": 14,
     "metadata": {},
     "output_type": "execute_result"
    }
   ],
   "source": [
    "lrm = linear_model.LinearRegression()\n",
    "lrm.fit(X,y)\n"
   ]
  },
  {
   "cell_type": "code",
   "execution_count": 16,
   "metadata": {},
   "outputs": [
    {
     "name": "stdout",
     "output_type": "stream",
     "text": [
      "Coefficient:  [-3.24962454e+01 -2.01413742e-01  4.04836936e-03 -6.91759209e-04]\n",
      "Intercept:  37.9264381852854\n"
     ]
    }
   ],
   "source": [
    "print('Coefficient: ', lrm.coef_)\n",
    "print('Intercept: ', lrm.intercept_)"
   ]
  },
  {
   "cell_type": "code",
   "execution_count": 17,
   "metadata": {},
   "outputs": [
    {
     "data": {
      "text/plain": [
       "(array([   54.,   494.,  3550., 15397., 20497., 20322., 19286., 11334.,\n",
       "         4833.,   686.]),\n",
       " array([-21.82222222, -15.64944444,  -9.47666667,  -3.30388889,\n",
       "          2.86888889,   9.04166667,  15.21444444,  21.38722222,\n",
       "         27.56      ,  33.73277778,  39.90555556]),\n",
       " <a list of 10 Patch objects>)"
      ]
     },
     "execution_count": 17,
     "metadata": {},
     "output_type": "execute_result"
    },
    {
     "data": {
      "image/png": "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\n",
      "text/plain": [
       "<Figure size 432x288 with 1 Axes>"
      ]
     },
     "metadata": {
      "needs_background": "light"
     },
     "output_type": "display_data"
    }
   ],
   "source": [
    "plt.hist(y)"
   ]
  },
  {
   "cell_type": "markdown",
   "metadata": {},
   "source": [
    "<b>1. Linearity of the Model in its Coefficients</b><br>\n",
    "Target variable is linear function of the model<br>\n",
    "temperature = 37.926-32.496*humidity-.2014*windspeed-.00404836*windbearing-.000691759*pressure+dummy_variable"
   ]
  },
  {
   "cell_type": "markdown",
   "metadata": {},
   "source": [
    "<b>2. Error Term Should be Zero on Average</b><br>"
   ]
  },
  {
   "cell_type": "code",
   "execution_count": 29,
   "metadata": {},
   "outputs": [
    {
     "name": "stdout",
     "output_type": "stream",
     "text": [
      "-6.282637831541205e-15\n"
     ]
    }
   ],
   "source": [
    "predictions = lrm.predict(X)\n",
    "errors = y - predictions\n",
    "print(np.mean(errors))"
   ]
  },
  {
   "cell_type": "markdown",
   "metadata": {},
   "source": [
    "Constant in the model is very close to 0"
   ]
  },
  {
   "cell_type": "markdown",
   "metadata": {},
   "source": [
    "<b>3. Homoscedacticity"
   ]
  },
  {
   "cell_type": "code",
   "execution_count": 32,
   "metadata": {},
   "outputs": [
    {
     "data": {
      "image/png": "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\n",
      "text/plain": [
       "<Figure size 432x288 with 1 Axes>"
      ]
     },
     "metadata": {
      "needs_background": "light"
     },
     "output_type": "display_data"
    }
   ],
   "source": [
    "plt.scatter(predictions, errors)\n",
    "plt.axhline(y = 0)\n",
    "plt.show()"
   ]
  },
  {
   "cell_type": "code",
   "execution_count": 34,
   "metadata": {},
   "outputs": [
    {
     "name": "stdout",
     "output_type": "stream",
     "text": [
      "Barlett: 2464.8446568674854 0.0\n",
      "Levene: 2321.2401008573806 0.0\n"
     ]
    }
   ],
   "source": [
    "from scipy.stats import bartlett\n",
    "from scipy.stats import levene\n",
    "bart = bartlett(predictions,errors)\n",
    "lev = levene(predictions, errors)\n",
    "\n",
    "print(f'Barlett: {bart[0]} {bart[1]}')\n",
    "print(f'Levene: {lev[0]} {lev[1]}')"
   ]
  },
  {
   "cell_type": "markdown",
   "metadata": {},
   "source": [
    "p-value is zero -> this means that the model is heteroscedasticity (not homoscedacticity) therefore fails the test.\n",
    "to fix this: eliminate oultliers or missing data"
   ]
  },
  {
   "cell_type": "markdown",
   "metadata": {},
   "source": [
    "<b>4. Low Multicollinearity</b><br>"
   ]
  },
  {
   "cell_type": "code",
   "execution_count": 36,
   "metadata": {},
   "outputs": [
    {
     "data": {
      "text/html": [
       "<div>\n",
       "<style scoped>\n",
       "    .dataframe tbody tr th:only-of-type {\n",
       "        vertical-align: middle;\n",
       "    }\n",
       "\n",
       "    .dataframe tbody tr th {\n",
       "        vertical-align: top;\n",
       "    }\n",
       "\n",
       "    .dataframe thead th {\n",
       "        text-align: right;\n",
       "    }\n",
       "</style>\n",
       "<table border=\"1\" class=\"dataframe\">\n",
       "  <thead>\n",
       "    <tr style=\"text-align: right;\">\n",
       "      <th></th>\n",
       "      <th>humidity</th>\n",
       "      <th>windspeed</th>\n",
       "      <th>windbearing</th>\n",
       "      <th>pressure</th>\n",
       "    </tr>\n",
       "  </thead>\n",
       "  <tbody>\n",
       "    <tr>\n",
       "      <th>humidity</th>\n",
       "      <td>1.000000</td>\n",
       "      <td>-0.224951</td>\n",
       "      <td>0.000735</td>\n",
       "      <td>0.005454</td>\n",
       "    </tr>\n",
       "    <tr>\n",
       "      <th>windspeed</th>\n",
       "      <td>-0.224951</td>\n",
       "      <td>1.000000</td>\n",
       "      <td>0.103822</td>\n",
       "      <td>-0.049263</td>\n",
       "    </tr>\n",
       "    <tr>\n",
       "      <th>windbearing</th>\n",
       "      <td>0.000735</td>\n",
       "      <td>0.103822</td>\n",
       "      <td>1.000000</td>\n",
       "      <td>-0.011651</td>\n",
       "    </tr>\n",
       "    <tr>\n",
       "      <th>pressure</th>\n",
       "      <td>0.005454</td>\n",
       "      <td>-0.049263</td>\n",
       "      <td>-0.011651</td>\n",
       "      <td>1.000000</td>\n",
       "    </tr>\n",
       "  </tbody>\n",
       "</table>\n",
       "</div>"
      ],
      "text/plain": [
       "             humidity  windspeed  windbearing  pressure\n",
       "humidity     1.000000  -0.224951     0.000735  0.005454\n",
       "windspeed   -0.224951   1.000000     0.103822 -0.049263\n",
       "windbearing  0.000735   0.103822     1.000000 -0.011651\n",
       "pressure     0.005454  -0.049263    -0.011651  1.000000"
      ]
     },
     "execution_count": 36,
     "metadata": {},
     "output_type": "execute_result"
    }
   ],
   "source": [
    "X.corr()"
   ]
  },
  {
   "cell_type": "markdown",
   "metadata": {},
   "source": [
    "Correlation is relatively weak - data set passes the Low Multicollinearity test"
   ]
  },
  {
   "cell_type": "markdown",
   "metadata": {},
   "source": [
    "<b>5. Error Terms Should Be Uncorrelated with One Another</b>"
   ]
  },
  {
   "cell_type": "code",
   "execution_count": 37,
   "metadata": {},
   "outputs": [
    {
     "data": {
      "image/png": "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\n",
      "text/plain": [
       "<Figure size 432x288 with 1 Axes>"
      ]
     },
     "metadata": {
      "needs_background": "light"
     },
     "output_type": "display_data"
    }
   ],
   "source": [
    "plt.plot(errors)\n",
    "plt.show()"
   ]
  },
  {
   "cell_type": "code",
   "execution_count": 39,
   "metadata": {},
   "outputs": [
    {
     "data": {
      "image/png": "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\n",
      "text/plain": [
       "<Figure size 432x288 with 1 Axes>"
      ]
     },
     "metadata": {
      "needs_background": "light"
     },
     "output_type": "display_data"
    }
   ],
   "source": [
    "from statsmodels.tsa.stattools import acf\n",
    "acf_data = acf(errors)\n",
    "plt.plot(acf_data[1:])\n",
    "plt.show()"
   ]
  },
  {
   "cell_type": "markdown",
   "metadata": {},
   "source": [
    "Erros of our model is uncorrelated to each other"
   ]
  },
  {
   "cell_type": "markdown",
   "metadata": {},
   "source": [
    "<b>6. Features Shouldn't be Correlated with the Erros</b>"
   ]
  },
  {
   "cell_type": "code",
   "execution_count": 40,
   "metadata": {},
   "outputs": [
    {
     "name": "stdout",
     "output_type": "stream",
     "text": [
      "Jarque-Bera test statistics is 3793.296735252366 and p value is 0.0\n",
      "Normality test statistics is 3375.432307699586 and p value is 0.0\n"
     ]
    }
   ],
   "source": [
    "from scipy.stats import jarque_bera\n",
    "from scipy.stats import normaltest\n",
    "\n",
    "jb_stats = jarque_bera(errors)\n",
    "norm_stats = normaltest(errors)\n",
    "\n",
    "print(\"Jarque-Bera test statistics is {0} and p value is {1}\".format(jb_stats[0], jb_stats[1]))\n",
    "print(\"Normality test statistics is {0} and p value is {1}\".format(norm_stats[0], norm_stats[1]))"
   ]
  },
  {
   "cell_type": "markdown",
   "metadata": {},
   "source": [
    "Errors of model are Normally Distributed"
   ]
  },
  {
   "cell_type": "markdown",
   "metadata": {},
   "source": [
    "<b>House Prices</b>"
   ]
  },
  {
   "cell_type": "code",
   "execution_count": 44,
   "metadata": {},
   "outputs": [],
   "source": [
    "postgres_db = 'houseprices'\n",
    "\n",
    "\n",
    "\n",
    "engine = create_engine('postgresql://{}:{}@{}:{}/{}'.format(\n",
    "    postgres_user, postgres_pw, postgres_host, postgres_port, postgres_db))\n",
    "data_df = pd.read_sql_query('select * from houseprices',con=engine)\n",
    "\n",
    "engine.dispose()\n",
    "\n",
    "house_df = data_df.copy()"
   ]
  },
  {
   "cell_type": "code",
   "execution_count": 45,
   "metadata": {},
   "outputs": [],
   "source": [
    "y = house_df['saleprice']\n",
    "X = house_df[['garagecars', 'lotarea', 'bedroomabvgr', 'yearremodadd']]# 'bedroomabvgr']#, 'yearremodadd', 'garagecars']"
   ]
  },
  {
   "cell_type": "code",
   "execution_count": 46,
   "metadata": {},
   "outputs": [
    {
     "name": "stdout",
     "output_type": "stream",
     "text": [
      "coefficient:  [5.02583499e+04 1.36924377e+00 1.16393773e+04 1.19562561e+03]\n",
      "intercept:  -2328811.48102567\n"
     ]
    }
   ],
   "source": [
    "lrm = linear_model.LinearRegression()\n",
    "lrm.fit(X,y)\n",
    "print('coefficient: ',lrm.coef_)\n",
    "print('intercept: ',lrm.intercept_)"
   ]
  },
  {
   "cell_type": "code",
   "execution_count": 47,
   "metadata": {},
   "outputs": [
    {
     "name": "stderr",
     "output_type": "stream",
     "text": [
      "C:\\Users\\D-9\\Anaconda3\\lib\\site-packages\\numpy\\core\\fromnumeric.py:2389: FutureWarning: Method .ptp is deprecated and will be removed in a future version. Use numpy.ptp instead.\n",
      "  return ptp(axis=axis, out=out, **kwargs)\n"
     ]
    },
    {
     "data": {
      "text/html": [
       "<table class=\"simpletable\">\n",
       "<caption>OLS Regression Results</caption>\n",
       "<tr>\n",
       "  <th>Dep. Variable:</th>        <td>saleprice</td>    <th>  R-squared:         </th> <td>   0.526</td> \n",
       "</tr>\n",
       "<tr>\n",
       "  <th>Model:</th>                   <td>OLS</td>       <th>  Adj. R-squared:    </th> <td>   0.525</td> \n",
       "</tr>\n",
       "<tr>\n",
       "  <th>Method:</th>             <td>Least Squares</td>  <th>  F-statistic:       </th> <td>   403.4</td> \n",
       "</tr>\n",
       "<tr>\n",
       "  <th>Date:</th>             <td>Tue, 22 Sep 2020</td> <th>  Prob (F-statistic):</th> <td>6.67e-234</td>\n",
       "</tr>\n",
       "<tr>\n",
       "  <th>Time:</th>                 <td>22:33:59</td>     <th>  Log-Likelihood:    </th> <td> -17999.</td> \n",
       "</tr>\n",
       "<tr>\n",
       "  <th>No. Observations:</th>      <td>  1460</td>      <th>  AIC:               </th> <td>3.601e+04</td>\n",
       "</tr>\n",
       "<tr>\n",
       "  <th>Df Residuals:</th>          <td>  1455</td>      <th>  BIC:               </th> <td>3.604e+04</td>\n",
       "</tr>\n",
       "<tr>\n",
       "  <th>Df Model:</th>              <td>     4</td>      <th>                     </th>     <td> </td>    \n",
       "</tr>\n",
       "<tr>\n",
       "  <th>Covariance Type:</th>      <td>nonrobust</td>    <th>                     </th>     <td> </td>    \n",
       "</tr>\n",
       "</table>\n",
       "<table class=\"simpletable\">\n",
       "<tr>\n",
       "        <td></td>          <th>coef</th>     <th>std err</th>      <th>t</th>      <th>P>|t|</th>  <th>[0.025</th>    <th>0.975]</th>  \n",
       "</tr>\n",
       "<tr>\n",
       "  <th>const</th>        <td>-2.329e+06</td> <td> 1.52e+05</td> <td>  -15.354</td> <td> 0.000</td> <td>-2.63e+06</td> <td>-2.03e+06</td>\n",
       "</tr>\n",
       "<tr>\n",
       "  <th>garagecars</th>   <td> 5.026e+04</td> <td> 2154.367</td> <td>   23.329</td> <td> 0.000</td> <td>  4.6e+04</td> <td> 5.45e+04</td>\n",
       "</tr>\n",
       "<tr>\n",
       "  <th>lotarea</th>      <td>    1.3692</td> <td>    0.146</td> <td>    9.349</td> <td> 0.000</td> <td>    1.082</td> <td>    1.657</td>\n",
       "</tr>\n",
       "<tr>\n",
       "  <th>bedroomabvgr</th> <td> 1.164e+04</td> <td> 1780.548</td> <td>    6.537</td> <td> 0.000</td> <td> 8146.662</td> <td> 1.51e+04</td>\n",
       "</tr>\n",
       "<tr>\n",
       "  <th>yearremodadd</th> <td> 1195.6256</td> <td>   76.936</td> <td>   15.541</td> <td> 0.000</td> <td> 1044.708</td> <td> 1346.543</td>\n",
       "</tr>\n",
       "</table>\n",
       "<table class=\"simpletable\">\n",
       "<tr>\n",
       "  <th>Omnibus:</th>       <td>719.588</td> <th>  Durbin-Watson:     </th> <td>   1.982</td>\n",
       "</tr>\n",
       "<tr>\n",
       "  <th>Prob(Omnibus):</th> <td> 0.000</td>  <th>  Jarque-Bera (JB):  </th> <td>8558.176</td>\n",
       "</tr>\n",
       "<tr>\n",
       "  <th>Skew:</th>          <td> 1.998</td>  <th>  Prob(JB):          </th> <td>    0.00</td>\n",
       "</tr>\n",
       "<tr>\n",
       "  <th>Kurtosis:</th>      <td>14.168</td>  <th>  Cond. No.          </th> <td>1.54e+06</td>\n",
       "</tr>\n",
       "</table><br/><br/>Warnings:<br/>[1] Standard Errors assume that the covariance matrix of the errors is correctly specified.<br/>[2] The condition number is large, 1.54e+06. This might indicate that there are<br/>strong multicollinearity or other numerical problems."
      ],
      "text/plain": [
       "<class 'statsmodels.iolib.summary.Summary'>\n",
       "\"\"\"\n",
       "                            OLS Regression Results                            \n",
       "==============================================================================\n",
       "Dep. Variable:              saleprice   R-squared:                       0.526\n",
       "Model:                            OLS   Adj. R-squared:                  0.525\n",
       "Method:                 Least Squares   F-statistic:                     403.4\n",
       "Date:                Tue, 22 Sep 2020   Prob (F-statistic):          6.67e-234\n",
       "Time:                        22:33:59   Log-Likelihood:                -17999.\n",
       "No. Observations:                1460   AIC:                         3.601e+04\n",
       "Df Residuals:                    1455   BIC:                         3.604e+04\n",
       "Df Model:                           4                                         \n",
       "Covariance Type:            nonrobust                                         \n",
       "================================================================================\n",
       "                   coef    std err          t      P>|t|      [0.025      0.975]\n",
       "--------------------------------------------------------------------------------\n",
       "const        -2.329e+06   1.52e+05    -15.354      0.000   -2.63e+06   -2.03e+06\n",
       "garagecars    5.026e+04   2154.367     23.329      0.000     4.6e+04    5.45e+04\n",
       "lotarea          1.3692      0.146      9.349      0.000       1.082       1.657\n",
       "bedroomabvgr  1.164e+04   1780.548      6.537      0.000    8146.662    1.51e+04\n",
       "yearremodadd  1195.6256     76.936     15.541      0.000    1044.708    1346.543\n",
       "==============================================================================\n",
       "Omnibus:                      719.588   Durbin-Watson:                   1.982\n",
       "Prob(Omnibus):                  0.000   Jarque-Bera (JB):             8558.176\n",
       "Skew:                           1.998   Prob(JB):                         0.00\n",
       "Kurtosis:                      14.168   Cond. No.                     1.54e+06\n",
       "==============================================================================\n",
       "\n",
       "Warnings:\n",
       "[1] Standard Errors assume that the covariance matrix of the errors is correctly specified.\n",
       "[2] The condition number is large, 1.54e+06. This might indicate that there are\n",
       "strong multicollinearity or other numerical problems.\n",
       "\"\"\""
      ]
     },
     "execution_count": 47,
     "metadata": {},
     "output_type": "execute_result"
    }
   ],
   "source": [
    "import statsmodels.api as sm\n",
    "X = sm.add_constant(X)\n",
    "ans = sm.OLS(y,X).fit()\n",
    "ans.summary()"
   ]
  },
  {
   "cell_type": "markdown",
   "metadata": {},
   "source": [
    "<b>1. Linearity of the Model in its Coefficients</b><br>\n",
    "saleprice = -2328811.481 + 0*garagecars + 50258.3499*lotarea + 1.36924*bedroomabvgr + 11639.3773*yearremodadd + dummy_variable<br>\n",
    "Model is linear"
   ]
  },
  {
   "cell_type": "markdown",
   "metadata": {},
   "source": [
    "<b>2. Error Term Should Not be Zero</b>"
   ]
  },
  {
   "cell_type": "code",
   "execution_count": 52,
   "metadata": {},
   "outputs": [
    {
     "name": "stdout",
     "output_type": "stream",
     "text": [
      "-9.7597502682307e-11\n"
     ]
    }
   ],
   "source": [
    "predictions = lrm.predict(X)\n",
    "errors = y - predictions\n",
    "print(np.mean(errors))"
   ]
  },
  {
   "cell_type": "markdown",
   "metadata": {},
   "source": [
    "approximately zero"
   ]
  },
  {
   "cell_type": "markdown",
   "metadata": {},
   "source": [
    "<b>3. Homoscedasticity</b>"
   ]
  },
  {
   "cell_type": "code",
   "execution_count": 54,
   "metadata": {},
   "outputs": [
    {
     "name": "stdout",
     "output_type": "stream",
     "text": [
      "Bartlett test statistic value is 3.89846 and p value is 0.0483\n",
      "Levene test statistic value is 32.3163 and p value is 1.44e-08\n"
     ]
    }
   ],
   "source": [
    "from scipy.stats import bartlett\n",
    "from scipy.stats import levene\n",
    "\n",
    "bart_stats = bartlett(predictions, errors)\n",
    "lev_stats = levene(predictions, errors)\n",
    "\n",
    "print(\"Bartlett test statistic value is {0:3g} and p value is {1:.3g}\".format(bart_stats[0], bart_stats[1]))\n",
    "print(\"Levene test statistic value is {0:3g} and p value is {1:.3g}\".format(lev_stats[0], lev_stats[1]))"
   ]
  },
  {
   "cell_type": "markdown",
   "metadata": {},
   "source": [
    "errors are hteroscedastic - may need to clean data and eliminate outliers"
   ]
  },
  {
   "cell_type": "markdown",
   "metadata": {},
   "source": [
    "<b>4. Low Multicollinearity"
   ]
  },
  {
   "cell_type": "code",
   "execution_count": 55,
   "metadata": {},
   "outputs": [
    {
     "data": {
      "text/html": [
       "<div>\n",
       "<style scoped>\n",
       "    .dataframe tbody tr th:only-of-type {\n",
       "        vertical-align: middle;\n",
       "    }\n",
       "\n",
       "    .dataframe tbody tr th {\n",
       "        vertical-align: top;\n",
       "    }\n",
       "\n",
       "    .dataframe thead th {\n",
       "        text-align: right;\n",
       "    }\n",
       "</style>\n",
       "<table border=\"1\" class=\"dataframe\">\n",
       "  <thead>\n",
       "    <tr style=\"text-align: right;\">\n",
       "      <th></th>\n",
       "      <th>const</th>\n",
       "      <th>garagecars</th>\n",
       "      <th>lotarea</th>\n",
       "      <th>bedroomabvgr</th>\n",
       "      <th>yearremodadd</th>\n",
       "    </tr>\n",
       "  </thead>\n",
       "  <tbody>\n",
       "    <tr>\n",
       "      <th>const</th>\n",
       "      <td>NaN</td>\n",
       "      <td>NaN</td>\n",
       "      <td>NaN</td>\n",
       "      <td>NaN</td>\n",
       "      <td>NaN</td>\n",
       "    </tr>\n",
       "    <tr>\n",
       "      <th>garagecars</th>\n",
       "      <td>NaN</td>\n",
       "      <td>1.000000</td>\n",
       "      <td>0.154871</td>\n",
       "      <td>0.086106</td>\n",
       "      <td>0.420622</td>\n",
       "    </tr>\n",
       "    <tr>\n",
       "      <th>lotarea</th>\n",
       "      <td>NaN</td>\n",
       "      <td>0.154871</td>\n",
       "      <td>1.000000</td>\n",
       "      <td>0.119690</td>\n",
       "      <td>0.013788</td>\n",
       "    </tr>\n",
       "    <tr>\n",
       "      <th>bedroomabvgr</th>\n",
       "      <td>NaN</td>\n",
       "      <td>0.086106</td>\n",
       "      <td>0.119690</td>\n",
       "      <td>1.000000</td>\n",
       "      <td>-0.040581</td>\n",
       "    </tr>\n",
       "    <tr>\n",
       "      <th>yearremodadd</th>\n",
       "      <td>NaN</td>\n",
       "      <td>0.420622</td>\n",
       "      <td>0.013788</td>\n",
       "      <td>-0.040581</td>\n",
       "      <td>1.000000</td>\n",
       "    </tr>\n",
       "  </tbody>\n",
       "</table>\n",
       "</div>"
      ],
      "text/plain": [
       "              const  garagecars   lotarea  bedroomabvgr  yearremodadd\n",
       "const           NaN         NaN       NaN           NaN           NaN\n",
       "garagecars      NaN    1.000000  0.154871      0.086106      0.420622\n",
       "lotarea         NaN    0.154871  1.000000      0.119690      0.013788\n",
       "bedroomabvgr    NaN    0.086106  0.119690      1.000000     -0.040581\n",
       "yearremodadd    NaN    0.420622  0.013788     -0.040581      1.000000"
      ]
     },
     "execution_count": 55,
     "metadata": {},
     "output_type": "execute_result"
    }
   ],
   "source": [
    "X.corr()"
   ]
  },
  {
   "cell_type": "markdown",
   "metadata": {},
   "source": [
    "Features are poorly correlated to each other"
   ]
  },
  {
   "cell_type": "markdown",
   "metadata": {},
   "source": [
    "<b>5. Error Terms Should be Uncorrelated with One Another"
   ]
  },
  {
   "cell_type": "code",
   "execution_count": 56,
   "metadata": {},
   "outputs": [
    {
     "data": {
      "image/png": "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\n",
      "text/plain": [
       "<Figure size 432x288 with 1 Axes>"
      ]
     },
     "metadata": {
      "needs_background": "light"
     },
     "output_type": "display_data"
    }
   ],
   "source": [
    "plt.plot(errors)\n",
    "plt.show()"
   ]
  },
  {
   "cell_type": "markdown",
   "metadata": {},
   "source": [
    "Errors are uncorrelated"
   ]
  },
  {
   "cell_type": "markdown",
   "metadata": {},
   "source": [
    "<b>6. Features Should not be Correlated with the Errors"
   ]
  },
  {
   "cell_type": "code",
   "execution_count": 58,
   "metadata": {},
   "outputs": [
    {
     "data": {
      "image/png": "iVBORw0KGgoAAAANSUhEUgAAAYIAAAD6CAYAAACs/ECRAAAABHNCSVQICAgIfAhkiAAAAAlwSFlzAAALEgAACxIB0t1+/AAAADh0RVh0U29mdHdhcmUAbWF0cGxvdGxpYiB2ZXJzaW9uMy4xLjEsIGh0dHA6Ly9tYXRwbG90bGliLm9yZy8QZhcZAAAgAElEQVR4nO29eXxcd33v/f7OLo2kkTSSJW+yvGRzFjuJE5YADSRASimmt6EEentTGqDlKfdpL10Il9vSsrSF23uhC22fXLYUKHu5mBKSJg57IcSO4z3ebdmSrX2f0ay/5485ZzQaj2Y9M3Ok+b1fL70058yZmZ+PNedzvrsopdBoNBpN4+Ko9wI0Go1GU1+0EGg0Gk2Do4VAo9FoGhwtBBqNRtPgaCHQaDSaBkcLgUaj0TQ4lgiBiNwnIidE5LSIPJzjea+IfMV4/hkR6Tf2u0XkURE5LCLHReR9VqxHo9FoNMXjqvQNRMQJfBJ4NXAJeFZE9iiljmUc9hAwqZTaJiIPAB8F3gy8CfAqpW4WkWbgmIh8SSl1Pt9ndnV1qf7+/kqXrtFoNA3F/v37x5RS3dn7KxYC4E7gtFLqLICIfBnYDWQKwW7gz4zHXwf+XkQEUIBfRFxAExAFZgp9YH9/P/v27bNg6RqNRtM4iMiFXPutcA2tBy5mbF8y9uU8RikVB6aBIClRmAcuAwPAXyulJixYk0aj0WiKxAohkBz7svtWLHfMnUACWAdsBv5ARLbk/BCRd4rIPhHZNzo6Wsl6NRqNRpOBFUJwCdiYsb0BGFruGMMNFAAmgLcCjyulYkqpEeAnwK5cH6KUekQptUsptau7+yoXl0aj0WjKxAoheBa4RkQ2i4gHeADYk3XMHuBB4/H9wNMq1e1uAHiVpPADLwZesGBNGo1GoymSioXA8Pm/G3gCOA58VSl1VEQ+KCJvMA77NBAUkdPAewAzxfSTQAtwhJSgfFYpdajSNWk0Go2meGQltqHetWuX0llDGo1GUxoisl8pdZX7XVcWazQaTYOjhUCj0VzFD06OMjAeqvcyNDVCC4FGo7mK3/vyAf7ph2fqvQxNjdBCoNFolqCUYm4hzuhspN5L0dQILQQajWYJ0USSeFIxPqeFoFHQQqDRaJYQjiYAGJ+P1nklmlqhhUCj0SwhZArBnBaCRkELgUajWYIpBHOROAuxRJ1Xo6kFWgg0Gs0SQtF4+rF2DzUGWgg0Gs0STIsA0AHjBkELgUajWUJ4iRBoi6AR0EKg0WiWMJ/hGhrTFkFDoIVAo9EsYYlrSMcIGgItBBqNZglhHSNoOLQQaDSaJZgWQVeLR8cIGgQtBBqNZgmhaBwRWN/exKi2CBoCLQQajWYJoWiCZreTrhavtggaBC0EGo1mCaFogiaPi2CLh/F5bRE0AloINBrNEkLROM0eJ0HDIliJ42w1paGFQKPRLCEUTaSEwO8hnlTMhOOFX6RZ0VgiBCJyn4icEJHTIvJwjue9IvIV4/lnRKQ/47lbROSnInJURA6LiM+KNWk0mvIIG0LQ3eoFYEy7h1Y9FQuBiDiBTwK/CGwH3iIi27MOewiYVEptAz4OfNR4rQv4AvA7SqkbgbuBWKVr0mg05ZNyDbkI+lNCoAPGqx8rLII7gdNKqbNKqSjwZWB31jG7gUeNx18H7hERAV4DHFJKHQRQSo0rpXTfW42mjqSCxU6CLR5AF5U1AlYIwXrgYsb2JWNfzmOUUnFgGggC1wJKRJ4QkedE5I8tWI9Go6mAUDSBP0MIxnSbiVWPy4L3kBz7stMMljvGBbwMuAMIAXtFZL9Sau9VHyLyTuCdAH19fRUtWKPRLI+ZPtrZrC2CRsEKi+ASsDFjewMwtNwxRlwgAEwY+3+glBpTSoWAx4Dbcn2IUuoRpdQupdSu7u5uC5at0WhyETbSR11OBx3Nbh0jaACsEIJngWtEZLOIeIAHgD1Zx+wBHjQe3w88rVLJyU8At4hIsyEQvwAcs2BNGo2mDJRShGKprCEgVUugs4ZWPRW7hpRScRF5N6mLuhP4jFLqqIh8ENinlNoDfBr4vIicJmUJPGC8dlJE/jcpMVHAY0qp71S6Jo1GUx4LsSRKQbMndWkI+j2MaYtg1WNFjACl1GOk3DqZ+/404/EC8KZlXvsFUimkGo2mzpjzik2LoKvFywtXZuq5JE0N0JXFGo0mjdmCuintGtIWQSOghUCj0aQxhcCfdg15mQ7HiMaT9VyWpspoIdBoNGmyXUNmLcFkSFsFqxktBBqNJk04yzXUZRaV6VqCVY0WAo1Gk2beEILM9FHQ/YZWO1oINBpNmkXX0GL6KKBrCVY5Wgg0Gk2asLYIGhItBBqNJk0oSwjafC48TodOIV3laCHQaDRpTNeQGSwWkdTsYh0sXtVoIdBoNGlC0QQuh+BxLl4aUkPstUWwmtFCoNFo0phDaVJzo1IE/V5tEaxytBBoNJo0IaMFdSa6zcTqRwuBRqNJk5pOtrQXZZfRijrVOV6zGtFCoNFo0oQN11AmQb+HhVgyXWymWX1oIdBoNGlC0UQO15BZS6DjBKsVLQQajSZNKBqnKcs1lB5ir+MEqxYtBBqNJk0qRrDUIujya4tgtaOFQKPRpAnlihG0mP2GtEWwWtFCoNFo0oRjV8cIOs3Gc9oiWLVoIdBoNGnmI/F051ETn9tJq9elYwSrGEuEQETuE5ETInJaRB7O8bxXRL5iPP+MiPRnPd8nInMi8odWrEdjHy5Ph7nxTx/nwMBkvZeyooglkvzVd19gZGahZp+ZSCoi8eRVFgHoNhOrnYqFQEScwCeBXwS2A28Rke1Zhz0ETCqltgEfBz6a9fzHge9WuhaN/Th0aZr5aIL9F7QQlMKz5yf4px+c4d+PDdfsM8OxpZ1HMwm26DYTqxkrLII7gdNKqbNKqSjwZWB31jG7gUeNx18H7hGjmYmIvBE4Cxy1YC0am3FubH7Jb01xPGcI53ANLYJQxOw86rrquaDfo2cSrGKsEIL1wMWM7UvGvpzHKKXiwDQQFBE/8F7gzy1Yh8aGnBtNCcCF8VCdV7KyMC2oK9M1FAKjcjg7fRQMi0BPKVu1WCEEkmNfdlOS5Y75c+DjSqm5gh8i8k4R2Sci+0ZHR8tYpqYeaIugdJJJxXMDUwBcqaVFEF3eNdTV4mFiPkoiqfsNrUasEIJLwMaM7Q3A0HLHiIgLCAATwIuAj4nIeeD3gf8uIu/O9SFKqUeUUruUUru6u7stWLamFpw1BGBoOsxCTPeqKYazY3NMh2M4HVJT11A4trxrqKvFS1LBVEi7h1YjVgjBs8A1IrJZRDzAA8CerGP2AA8aj+8HnlYpXq6U6ldK9QOfAP5CKfX3FqxJYwNmFmKMzUW4vrcVpeDSpHYPFYPpFnrJlmBNXUPzkXzBYl1UVm3G5iL87hefY7IO57hiITB8/u8GngCOA19VSh0VkQ+KyBuMwz5NKiZwGngPcFWKqWb1YcYHXnX9mtT2mBaCYth/YZL2Zjcv2RpkZiGeHihfbfK5hoJGm4mxWR0nqBbPnpvgO4cv84OTtXd9X20DloFS6jHgsax9f5rxeAF4U4H3+DMr1qKxD2Zc4FXXr+Efvn+G8zpOUBT7L0xye18HvW0+IBUn2Nzlr/rnmq6h7IIySMUIAMa0RVA1TGvr+YtTvPHW7Hyb6qIrizVV4+zYPA6BmzcEaG92c35cC0EhJuejnBmd57ZNHfQGDCGokXsor0WgW1FXHTM99+ClqZp/thYCTdU4NzbPho5mvC4nm4J+LQRFcOBiKj5w+6YOegyLYGS2RkJgxAiym84BtDe5cQi6lqCKmOm5R4dmiMaTNf1sLQSaqnFubC7t0tgcbOa8jhEUZP+FSZwOYceG9vpZBO6rhcDhEDr9upagmpgiG40neeHKTE0/WwuBpioopTg3Op8Wgv4uv04hLYL9Fya5cV0bTR4nLV4XLV5XzWoJQrE4HpcDlzP3ZaFLD7GvKmNzEda3NwFw8GJt3UNaCDRVYXQ2wnw0wZZuQwiCfpSCixPaKliOWCLJwYvT3NbXkd7X0+atWS1BKHJ1C+pMgi0eHSOoIuPzUW7ZEKCrxcvzF6dr+tlaCDRVwSwky7QIQFcY5+OFy7OEYwlu35QpBL6auob8OTKGTIJ+r64jqCLjcxGCLR52bgzw/MXaNmnUQqCpCueyhGBzMPVbB4yXZ/+FCYAlQtDb5mN4pjZ34eFYPGeg2CRlEWghqAbxRJLJUIyg38uODe2cGZ1nZiFWs8/XQqCpCufG5vG4HKwLpHyegWY3Hc1uzuvmc8uyf2CKtQEf6ww/MUBPwMfwzALJGvT4CUXzu4a6WrzMReI6zlMFJozWHV0tHnZsbAfg8KXauYe0EGiqwtnROTYH/Tgci/0GNwX9uqgsD89dmOS2DGsAUhZBPKlq4pIJRRI05cgYMgn6i2szMRWK8rHHX+DIYG393CsZ09IKtqQsAkgVltUKLQSaqnB2bP6qatjNXVoIluPydJjBqTC39y0VArOWoBYB41Asjt+bJ0ZQZFHZl5+9yD98/wyv/7sf8+Bnfs6z5ycsXedqZMIQ16DfQ6DZzZYuvxYCzcomnkgyMB5KZwyZ9Af9DE0vaNdCDsxGc7dnWwQ1rCUIRRMFYwRQuKjsqWPDXN/byh+99jqODE7zpn/6Kb/2Tz/l+ydGUEq3sc7FmCGuptju2NjO8xenana+tBBoLOfSZJh4Ul1lEfR3NQMwoFNIr2L/hUl8bgfb17Ut2Z/Zb6jahKOJnMVkJl1m47k8FsH4XIT9A5Pcd1Mvv/vKbfz4va/iA7+8nYuTIX7zs8/yy3//Y757+HJNYh4rCVNczZ5OOzYEGJ2N1KyGRAuBxnLMjKFcFkHm85pFnrswyS0b2nFnFXN1tXhwSG1cQ/OReME6AiBvUdnTL4ygFNx7Qw+Qalfxtrs284M/eiUf/dWbmVuI864vPsdbP/Uzaxe/whmfj+ByCG0+N0A6YFyrwjItBBrLWawhaFmy36wl0HGCpYSjCY4OzVzlFgJwOR10t9amqCwcS9CcJ0bg97pocjvzxgj2Hh9hbcDHjVmWjcfl4M139LH3D+7mN168iZ+dndAuwgzG56J0+j3p5Irt69pwO4UDWgg0K5VzY3MEmlLpopkEmtx0+j06hTSLQ5emiCfVVYFik942H1eqXEsQjSeJJVRe1xAYtQTLZA0txBL88NQo99ywBpFc02nB6RCuX9sKwHS4dnnydmdsLpqODwB4XU62r23TFoFm5XLOyBjKdTHYFGzWFkEW+wdSgeLs1FGTnjYfw1UOFpvDb/IFiyEVzFwuRvDTs+OEoom0W2g52ptSLqapkBYCk/H5SDo912THxnYOX5quyZxoLQQayzk3Os+WZQapbNbtqK/iuQuTbOny05l1ITDpafNVPWgYMobS5EsfBejyL19d/NSxYfweJy/ZGsz7Hu2GpajnHy8yPhdNx2BMdmxoZz6a4MzoXNU/XwuBxlLC0QRD08tP1Orv8nNZp5CmUUqxP0chWSa9AR/T4VhVz1m+oTSZpFxDV1sESimeOj7MK67txuvK/x6BppQQaNfQIuNzkfQ4UJOdfUZh2UD13UNaCDSWku4x1L28EABc0HECIHW+JkOxnIFiE7OorJq1BGnXUMEYgZfxuehV+e1HBmcYnokUdAvBohBMaSEAUud+Ppq4yiLYHPTT6nPxfA0mlmkh0FhKdrO5bPqDzUuOa3TMQrJd+SyCGtQSzEeWn1ecSdDvIZ5UzITjS/Y/eXwYh8Arr19T8LMChmtoRgsBsDiZrCtLCBzGgKJaBIwtEQIRuU9ETojIaRF5OMfzXhH5ivH8MyLSb+x/tYjsF5HDxu9XWbEeOzIVinLo0lRNAj+lMheJMzgVtuS9zo2l/JlmzUA26RRSHScA4LmBSdp8LrZ2tyx7TG8g5TKoZgppyHA7NXvzWwRdRmbLWJZ76Kljw+za1LlsnCOTVq8Lp0N0sNhgsb2E96rndmwM8MKV2aq7UisWAhFxAp8EfhHYDrxFRLZnHfYQMKmU2gZ8HPiosX8M+GWl1M3Ag8DnK12PXfnwd47zhr//CXd85Cn+8GsHefzIlfRdWL356ydOcN/Hf5i3YrRYzo7N09vmWzbo2OZzE/R7uKCFACAdH8hszpdNLV1DxcQIYGmbicGpMMcuz3Dv9sLWAICIEGhy6xiBwWLDuatFdOfGDhJJVfUGflZYBHcCp5VSZ5VSUeDLwO6sY3YDjxqPvw7cIyKilDqglBoy9h8FfCJytSyuAg4MpEYQvuKaLv796BV+5wv7ufVDT/K2z/6cLz5zoWbDR3JxcniW2Uicv917quL3Opej2Vw2/V1+7RoiFSw9OTy3bP2ASavPjd/jrKpraHFecSHX0NWN554+PgxQVHzAJNDk1jECA/MGrKslh0WwIQBUvxOpFUKwHriYsX3J2JfzGKVUHJgGsnPMfhU4oJRadbPw5iNxzo7N85rtvXzigVvZ/yev5kvveDG/8eJNnBmd5/3fPMKL/3Ivf7bnaF3WNzARQgS++MxAxalq58bmlw0Um2zSg+yB1M0BXN1oLhfmXIJqEYqmrNNCdQSmH3sso6jsyeMjbOn2syWPeyubQJNbp48amAV6uSyCNW0+1gV8HKzybAIrhCCXTZvtCM97jIjcSMpd9NvLfojIO0Vkn4jsGx0dLWuh9eLY5RmUgpvWp8ru3U4HL9ka5E9ev50f/NHdPPnfXsH9t2/gc/9xnqdfGK7p2mKJJENTYd5yZx9Nbid/9d0Xyn6vyfkoU6HYsjUEJpuDfq7MLKTdEY3KcxcmcchiX5l89FZ5ZKVpEfgLxAg6zJkExl3s7EKMn54ZK8kagJQQ6GBxivG5CE1u57KB+h0bqx8wtkIILgEbM7Y3AEPLHSMiLiAATBjbG4BvAv9FKXVmuQ9RSj2ilNqllNrV3d1twbJrh+nfu2l94KrnRIRrelr5yK/cxLU9LbzvXw/X1Hc6NBUmqeDWje286+6tPHlsmJ+dHS/rvc4u02wum3QK6URju4f2D0xyw9q2gkVcUP2RlaYQ+ArUALidDtqb3Wm/9o9OjRFLqJKFoL1Zu4ZMzD5Dy7FzYzsDE6GCcyAqwQoheBa4RkQ2i4gHeADYk3XMHlLBYID7gaeVUkpE2oHvAO9TSv3EgrXYkiODM3S1eFnTunz4w+ty8j/v38HobISPfOdYzdZmtoTu62zmoZdtZm3Ax188drysNsHnlmk2l42ZUdTorSYOXZouyhqAlGtoZLZ6IytDkThNbmfeoLVJ0O9J+7WfOjZMR7Ob2/qK+3eY6GDxImPz0atSRzMx/0YOVdE9VLEQGD7/dwNPAMeBryqljorIB0XkDcZhnwaCInIaeA9gppi+G9gG/ImIPG/8FJd6sII4OjTNzevblm3EZbJjYzu//Qtb+eq+S/zgZG3cX2ZhV1+wGZ/byR+99joOXZrm24eyjbrCnBubw+UQNnQ05T3OnEtwroHjBAuxBLMLcda35z9XJj2tXmIJlZ5tazWhWKKgW8jELCqLJ5I8fWKEV16/BpeztEtJuyEEei6BUVWcI1BscvP6AA6pbsDYkjoCpdRjSqlrlVJblVIfMfb9qVJqj/F4QSn1JqXUNqXUnUqps8b+Dyul/EqpnRk/I1asyS4sxBKcGpnL6RbKxe/dcw3b1rTwvm8cYnah+ndMFydCeJwOelpTKYpv3LmeG9e18bHHT5Scu3x2dJ6+zuareupn0+pz09XS2Cmk4xmjCYuh2pPKwgWmk2XS1eJhbD7C/guTTIVivLpEtxBAoNmDUjC7YI8U6noyPhfN+3fg97q4Zk0rB6tYYawri6vM8cszJJKKG9cVJwQ+t5OP3X8LV2YW+MsKArfFMjARYkNnU9ol4HAI73/dDQxOhfncf5wv6b2KSR016Q82dgrpeNZowkJUe3ZxKBovmDpq0mVYBE8dH8bjdPDya0uP2el+QymUUqnOowX+DnYaAeNqja7UQlBljgzNAIsZQ8VwW18Hb3/5Fv7lmQF+cnqsWksDUkLQ19m8ZN9Lt3Vxz/Vr+OTTp9NVj4VIJlVJQrBphXQhrVYleL4iolykLYKqCUHxFkHQ72U6HOPxo1d4ydYgLUUEu7NpT/cbWj0ppEopvvLsQEkZPrOROLGEyhsjgJTbeDIUq9qYVy0EVebIpWk6mt1F+4JN3vPqa9nS5ee93zhUtQpkpRQD4yE2ZQkBwPtedz2hWKLoIrPLMwtE4smCNQQmm7uaGZ6JpPPX7ciPT41x8589URV3TLqIKEdbgVx0t3hTIyur5BoKRUuJEaQuWhcnwty7vXS3ECz2G1pNFsHfPX2a937jMP/0g2WTH6+i2BuCHRurW1imhaDKHBma5qb1gYKB4mxMF9HgVJiPPl4dF9F0OMZsJM7GHEKwbU0rD9yxkS/87AJniygyOzeav9lcNiuhC+kz51KDVspNp81HviKiXLicDrpavNW1CIp2DS2u+d4bysvtSFsEq6Tf0CM/PMP/fvIkToeUdNeedhEWuCG4rqcVn9vBwYvVyRzSQlBFIvEEJ4dni44PZLOrv5O3vXQz//zTC1W5GKUzhnIIAcDv33stXpejKCEym81tKZA6arISUkhPXJkFFjuEWsn4XASf21Gwt08mvYHqjawMRfMPrs/E9GfftL6NtYHSLF2T1RQj+PxPz/MXj73A629ZywN3bGRgPFS0L3+sSIvA5XRw8/oAz1+0/m8RtBBUlVPDc8QSipuLzBjKxR+99jo2BZt57zcOWV6Jm64hCOYWgu5WL++6eytPHB3m2fMTed/r7Ng8TW4nPW3FuToWu5Da1yI4NZISt31VEYIoQb+3JEuxmiMrQ9FE0UJg9sS55/ry3EIAbatECL667yJ/8q2jvHp7Dx9/8042d/mZjcSLtnQWW1AX/t7s2NDOkaEZYolkRWvOhRaCKnI4XVFcfKA4myaPk4/96i1cGA/xxWcuWLU0YFEINnbkFgKAh162hd42H3/89UN5KxvzzSnORYvXRVeL17YWwUIswfnxeZo9Tk5cmbE8lbdQEVEueqs4sjIcTRScRWDSH2zmL37lZn7rrs1lf57P7aTJ7VzR/Ya+9fwg7/3GIV5+TRd//9ZbcTsdaeu6WPeQGSPoaC78t3Dv9h7e8fLNVWlJrYWgihwZnKbV51rW9VIsL9oSZG3Ax7HLMxatLMXFiRBdLZ68LQ6aPE7+/q23MjQV5rc+9+yygetims1ls7mrmXM2zRw6PTKHUrB75zqSCst9s4WKiHJRrZGVSqmSXEMiwltf1JcO+JbLSq4ufvzIFd7z1YPc2d/JI7+xKz2e07SuLxQtBBHafC48rsKX4hdvCfJHr72eVl9l5z0XWgiqyJGhGW5cV7iiuBj6g37L755zpY7mYld/J598620cGZrhd76wn2h8qWkajSe5OBEq2Gwum01V+DdZxcnhVHzg13ZtRAT2XcjvGiuVQkVEuahWLUEkniSpCncetZr2ZveKDBZ//8QI//VLz3HLhgCf/s07lpw38/t0sUghSFmG9e+833BCEK+Cfy0XsUSS45dnKooPZLK52/oCrGKFAFJm6V/+p5v50akx/vBrB5e0BhiYCJFUhZvNZbO5y8/IrD1TSE8Mz+IxAnTX9bRaGjAutogoGzP+YnU6a7rzaI2FoG0FWgTPnB3ntz+/n2t7Wvnc2+68qoai2ZNyeRZbNZ+yDEu7IagGDSUE933ih/zB1w7W5LNOj8wRjSeLbi1RiM1BP5OhmGU+VbP9dCluq1/btZH33nc9ew4O8aHvHEtnRpjppYWazWWzmDlkv4DxySuzbOn243I6uH1TBwcGrBszOrNQXBFRNtWaXWwKcbExAqtoX4FC8JfffYGeNh+ff+hF6cynbDYFm0uKERRKHa0FDSUELV5XVYd7ZGK2ni43dTQbMz/fKqtgcDLVfjpXDUE+fucXtvBbd23msz85zz8ahTPprqPLzCleDrP5nB0rjE8Oz3FdbysAu/o7mIvE0+6iSllsL1GiayhQHdeQmY1WD9dQNYQgFI1XpSJ8dDbCwUtTvOn2DXnbRvd1NnNxorgZ4BPzUVtYBLW9BagzPQEfx4asDbgux9GhGfweZ8l+8+XIHPp+a4HRhsWQ2X66FESE//FLNzA+H+Fjj5+gq8XLubF5gn5PycHDTUF7DrKfXYgxOBXmrT19ANze1wmk6gluWFt+BpjJeJ5h5flo9bpo9ji5Mm1tLcF8kfOKrSY1pcxaIRiaCvOq//V9BOG63lZuWNvG9nVtbF/bynW9bWW1wzD53okRlIJXFSii29jZzP99fpBIPJEOIucikUx1ky3VRVgNGkoIett8PH18BKWUJQHcfBwenGb7urai+rsXQ19nMw5ZrOCtlEI1BPlwOIT/ef8OJkMx3vevh+n0e4quKM6kxeuiu9V+KaRm/cC1PSmLYGNnE10tXvZfmOQ/v3hTxe9frkUgIsaAmlXiGmr2EI4lCl4wS+HLPx8gEk/yn1+0iVMjs3zn0BBf+vlA+vlNwWbu7O/kz3ffWPK/9+njI6wN+Nhe4GZgU2czSqWs7nzjOydDUZSiZBdhNWg4IQjHEswsxJf171lBIqk4NjTDm+/YWPjgIvG4HGzoaOacRQVYFydCeFyL7afLWc8//vptvPVTz3Dw4hR3l9GBElLuJLvFCE4ZLqDrDCEQEXZt6rAsYGxaBOVki/RUoZYgXCeLILOobE1r5Z8dSyT58rMXufvabj70xpuAVGB+aHqB40MzHL88w6HBab62/xK3bergLXf2Ff3ekXiCH50a5Y23ri94E5mZQppPCNJ9hnSMoLZUy8eazbmxOcKxhGWBYpP+Ln+6lUOlDEyE2NjRVJHF4ve6+Oxv3sFLtwa5p4ye9JCKE9itluDElTma3M4lA3Zu39TBwESIkdnK/3ZKKSLKpjdg/eziermGzH5D0xa5h546NszIbIRff9Gi1SYirG9v4t7tPfzXe67hkd+4nS1dfr71/GBJ7/3M2Qnmo4miRnJuKjKFtFzLsBo0lBCksy6qOAQcUqMpActSR022dKXunq3oSV5K6mg+Ov0e/uUdL+a+m3rLev2moJ/R2UjVOqyWw6mRWa7paVkikrf3p+Iyz/3lIJoAACAASURBVFlgFZRSRJRNT5v1IyvDhmuo1sFiq/sNffGZAdYFfLzy+uV9+CLCL+9YxzPnJkq6Duw9PozP7eAlW4MFj+1u9eJzOwo2VBwrcThRNWkoITDzsKttERwenMbrcrC1xLz6QvQHm5mLxNONqsrFbD9thRBUinnXfbnK4lwKJ67MpuMDJjeua8PjcljiHqqkiKi3zfqRlYt1BLWOEVjXgfTc2Dw/Pj3GW+7sw1nAyn3DznUoBf9W5DhWpRR7XxjhZdu68bkLi6WI0NdZOIW01OFE1aTBhKA2rqEjg9PcsLat5Dmuhdhs+BsrTSGdCi3ffrrWmP7RYgfgVJupUJSR2QjX9iz17XpdTnZsCFjSgK6SIqJqjKwM1St9tCl1DqywCL708wGcDikqLre1u4Wb1rex52BxQnByeI5Lk2HuKaHldiqFtJAQRHHIoousnjSUEPjcTtqb3VVr3AWpSV3HhmYqajS3HJstat1cbupoNTDzsSfmq9NeuVRODi/NGMrktk0dHBmcrrjXTyVFRNW4mQlF4zgEvGW4qiohkJ5SVpkQLMQSfG3fRV6zvYc1bcUlP+zesZ5Dl6aLuqna+8IwAK/K43LKpq/Tz8BEfjfu+HyETr/XsszCSrDkf15E7hOREyJyWkQezvG8V0S+Yjz/jIj0Zzz3PmP/CRF5rRXryUdvm8/yPOxMLkyEmI3ELY8PAKzvaMLtFM5aJQRlpI5ajSkE4zaxCE4YGUO5hOD2vg5iCZUuFiyX8QqKiHqqUF0ciibwe1xVT6nOptXnQgSmK3RzPX7kCpOh2JIgcSFev2MtIrDn+cJWwd7jI9y8PpA+98XQ19lEKJrI68Ydmyu9A221qFgIRMQJfBL4RWA78BYR2Z512EPApFJqG/Bx4KPGa7cDDwA3AvcB/2C8X9XoqUIediZWVxRn4nSkfI+rySLo8KfuCicqjHtYxckrs7R6XawNXP2lv31TKmBciXsonkgyWUERUXerFxEYtnBATbiEecVW4nAIbb7Kq4u/+MwF+oPNvLSIQK7J2kATd/Z3sufgYN679on5KM8NTJZkDcDiTdbAxPLfVbv0GQJrLII7gdNKqbNKqSjwZWB31jG7gUeNx18H7pHU7cdu4MtKqYhS6hxw2ni/qtHT5q2uEAxN43E6ct5RWsHmrsqbz6XaT3trXkCUC6/LSavXZWnwsxJODs9ybW9rzrvjYIuXzV3+igLGk6FYRUVEbmNkpZUDakoZSmM17c3uilxDJ67M8uz5Sd76or6SXSxv2LmOM6Pzedu7f++FVDVxMWmjmfR1pty4+QLGE/P26DME1gjBeuBixvYlY1/OY5RScWAaCBb5WkvpbfMxNhepWhfSo4MzXNfbWlZqYDFs7vJzfny+ovTBVOpoeSMGq0Fni8cWwWKlVEoIepYvArp9UwfPXZgsO4XXnEhVyQXA6gE1oWicpjrdFFQ6k+BfnrmAx+Xg/ttLL9583U1rcTkkr3vo6RdGWNPq5cZ1pcX8NnQ0IZJ/Jvf4nD36DIE1QpBLhrO/JcsdU8xrU28g8k4R2Sci+0ZHR0tc4iI9AR9JBaN5pm2Vi1KKw4PTVQkUm/R3+YnEk1yu4EJwwSapoyadfnsIwehchMlQLK81d/umDsbno2WP2BwvckZtPqx2b6ZiBPWxCCrpNzQfifOvzw3ySzevzdsEbjk6/B5ecW033z44lPPGKhpP8oOTo7zq+jUlWxs+t5PeNt+yFsFCLMFsJG6LWQRgjRBcAjLleAOQLbHpY0TEBQSAiSJfC4BS6hGl1C6l1K7u7vLaGUB1i8ouTYaZDseqEh8wMXv6lBsniMaTXJ4urf10tQn6PekLZD05ZWQMXVdACKD8gfZjc+aM2vKFoDfgtTxYXI8YAaT6Dc2UaRF8++AQs5E4v/6i4ltFZLN75zqGphdyxn2ePT/BXCRedtX8xs5mBpa5YTBvfMoRsGpghRA8C1wjIptFxEMq+Lsn65g9wIPG4/uBp1XKtt4DPGBkFW0GrgF+bsGalqWatQRHh8wZxdUXgnIzh4amyms/XU06mu1hEZy4ksoYuiaPEGzrbqHN52J/mRPLrOgv09vmYypk3cjKUsZUWk2gyVV2jOCLzwxwXU9rWpzL4d4bevC5Hew5eHXLiaeOD+NxObhrW/FB6Ew25SkqW/w7WCVCYPj83w08ARwHvqqUOioiHxSRNxiHfRoIishp4D3Aw8ZrjwJfBY4BjwO/q5SyfjJzBr3pfkPWu4aODM7gdAjX91YnUAzQ0+qjye0s2yKwU8aQiRkjsKJ1RiWcHJ6l0+/Je7fucAi3VdCAbnw+gtMhFTU9tPpmJlTC4HqraW/yMB2Olfx/f+jSFIcHp/n1F/dVlPbq97q494YeHjt8hVhG3FApxd7jI9y1NVj2uenrbGZkNpJu6pfJ2Lx9qorBojoCpdRjSqlrlVJblVIfMfb9qVJqj/F4QSn1JqXUNqXUnUqpsxmv/YjxuuuUUt+1Yj356Gz24HZKVYrKDg9Oc82alqLK0MvF4RA2BZvLzhwyhWBTiUNkqknQ7yGaSDJX535DZqC40IVl16YOTg7PldUsbXwuSqffU1ERkdXVxeE6Zg0Fmtwkkqrk//sv/myAJreTN95aeW7J7p3rmZiP8uPTY+l9Z0bnGJgI8aoy3UKwmEJ6cfJqq8C0CFZNHcFKw+EQ1rT6LE2/g9QdxJHB6aq6hUy2dJc/9N1sP72m1R53IgCdhptkcr5+YwtTGUNzRaX93ma4Ip67WLpVMFbG0PpsrB5ZWc/00UAZ/YamwzH2HBxi9851tPkqb8/wimu7aPO5+HZG9tDe4yMA3FNi/UAmptWdK05gpz5D0IBCAKlaAqstguGZCOPzUW4qMc2sHPqDqfL1clJgL4xX3n7aaoLp6uL6tZkYml5gLhIvSgh2bmzH6ZCyOpGOz0cqzhSxsp16MqkIxxJ1Sx9tL6MD6f89MEg4liipkjgfXpeT1928lieOXkm7cfYeH+GGtW2say8/zdoUggs54gTj81G8LkfdsrWyaUgh6A1YP9zjsFFRfPOG6lsE/V1+4knFpcni5qJmYlX7aStZ7DdUv4CxOY/4uiLiO80eF9vXtrHvfOlCYMWM2laviya3NSMrwzGz82j9XENQmhB85dmL3LIhYOl37Q071jEfTfD0CyNMhaLsuzBRkTUAqb/rFq8rZ/O5sbnUDUGt23osR0MKQU+b9a6hQ5emcAiWzLQthDkHudSBLkopLtpYCOrZb+ikkTF07ZriAv23b+rg+YtTJVtllTScMxERegPW1BKE6jSUxqTdGM5TrGsokUwV/d21rcvSdbxoS5A1rV72HBzk+ydGSSpK6jaaCxFhY2czF3J8T+0ytN6kYYVgPpqwNDh5YGCK63vbapJ9YQ6yL3V+sZ3aT2diB4vgxPAsPW3etM+6ELdv6iAcS3D88mzRn7EQS/3NWXEBsKpVSjjdgrp+lcVQvEUwMrtAPKlYX4HLJhdOh/D6W9bxvRdG+eaBQbpaPOzY0F7x+y6XQjpuQazIShpSCKwuKkskFc9fnOLWvsr/cIoh6PfQ6nNxvkSLwI4ZQ5C6G/W6HHUVglNFBopNFgvLiq8nGLdwIpVVbSbm04Pr69drCGAqXNz//aDhDl3fYX2LlN071xFNpKqJX3ld6dXEuegLNnNxMnxV5XKq4Zw9AsXQoEJgdR72mdE55iJxbu0rv7ClFESkrOZzdqwhgNS/p57VxYmk4tTI1VPJ8rGuvYl1AR/7B6aKfo2VmSI9AR8jM5GKay/q7RryuZ14XI6iLYLBKUMILLYIAG7ZEGCTkfJZqVvIpK+zmWg8yXDGrGulFGPz2iKoO1bnYR8YSAUNb6uRRQDldSE1hWCjjRrOmXS2eJisUwfSixMhFmLJvK0lcnGb0YCuWKzoM2TS2+YjmkhWbEWF00JQv0607U3uomsyhqZS39lKsnmWQ0R40+0baPW5eNk15bexySRXCulcJE40ntQxgnpjdR72gYEpAk3udPuHWtAf9DM4FS6pzcDAuH3aT2fT6ffWLVhsZgxdk6fraC5uXBdgcCrM7EJxF7F0nyELWg+vDaQuhOVkjmVSb9cQpNxDxVsEIQJNblq81fkbftfd2/jRH7/Ssvc3LYzMFFIr2oxYTUMKQZPHSZvPxYiFQnBrX3tNU8G2dPtRioJzUTOxW/vpTIJ+T93GVS4KQWkWgSn8xVpm6RiBBXeC29akPvvM6FxF7xOu07ziTErpQDo0tVAVa8DE6ZB0JpMVrGtvwiFLv6fpVuTaIqg/PRYF22YXYpwcmeXWjbWJD5j0B0tvPmfHGgKTjmZP3aaUnRieY0NHU8l3gVu7SxSCuQg+t8OSu+9NQT8uh3B6pDIhMGME/jpaiYEmT9GN5wYnw1WJD1QLt9PBuvamJXMJxtLtJbRFUHdSRWWV34EeujSNUtQsY8ikv8R21HZsP51JsMXDfDRhWUfNUjg1XFqg2KQv2IxD4EyRabxmDYEVlqPb6WBTsNkCIUi5huptERTbinpoKsz69uJnB9uBTcGlKaRWxoqsomGFwKqiMjNYuGNjbYUg0OQm6PcUfTdqtp/us1nqqEm9agliiSRnRktLHTXxupxs6Ci+AeDYvLXDyretaeF0ha6hemcNgTGusohEgelwqg6mGqmj1aSvM1sIUjegdplFAA0sBL1tPkbnIiQqGPkIcODiFNvWtFTUVrhc+kvIHLJr6qhJvYTg/Ng8sYTiut7SAsUmW7r9nC3yYmx17vi2NS1cGA8RjZc/djUUTeBxOnA763cpCDS5mY8mlrSBzsWQkTpazRhBNejr9DMxH00nFYzPR2n1ufC67NFnCBpYCHoCPhJJlVbnclBKcWBgkltrbA2YmPOLi+GCzYUgWCchOGlMJbumyNYS2ZhpvMXk81tdTbptTQuJpMrZwqBYwtF4Xd1CsFhUVihzaKiKNQTVxPzOXZxIrX98Pmqr+AA0shAYbZgrCRhfGA8xGYql2xLXms1dfoZnIswX0SrDju2nM6mXRXBieBaHpC6q5bClu4VQNFFw0JFSivF5iy2C7pR4VRInqGcLapNi20xUs5ismpgppAMTKcEen4vYqpgMGlgIrCgqO2D0o691oNgkPb+4iDvCARu2n87EzKmudS3BySuzbAr6yx4mtNUcHVrAPTSzECeWUJbGCLYaKaSVCkG9LQJTCAqlkA5OhfE4Hba7my6E2dvLdM+aw4nsROMKgQVtJg4MTOH3OMt2K1SKmUJaTJzAzqmjAK0+F06H1LyW4ORIaipZuWw2UkjPFPg/WGwvYd0FoNnjYn17U0UB41A0XtfUUVjsQDpdoN/Q4GSYte0+297MLEegyU2gyZ1OIbXaMrQC+5WY1ohgixeno7KRlQcGpthhDCmpB/1dqQt7oRRSs/30nZs7a7GssnA4pCpD7H90apQL4yFcDsHhEJwiOI3HDkmdu9ffvLbs9+9t89HscRbsBLvYcM7aC8DWNS2rxiIoJkawLrCy3EImZgppIqmYsDh7zAoqEgIR6QS+AvQD54FfU0pd1XxFRB4E/oex+WGl1KMi0gx8DdgKJIBvK6UermQ9peB0CGtavWUP9whHExy/PMNv/8IWi1dWPM0eF71tvoJFZXZtP52N1Y3nzozO8eBnfk6hxLBbKmg3bDYAPDuW/2Jcrdzxbd0t/PzcOMmkKutOORRN1D2fvb0E19DLLeoBVGs2djZzZHCaqVCUpLKmA62VVGoRPAzsVUr9lYg8bGy/N/MAQyw+AOwCFLBfRPYAEeCvlVLfExEPsFdEfrEWA+xNetp8jMyWZxEcHpwmnlQ1ryjOpr+ruaBFYPfUUZNOv7UWwd/tPYXX5WTPu+/C73WRSKrUj1Ikjd8uh7C1u3zXEKRiNYcuTec9xmwrYLV/e9uaFhZiSQanwmUJfSgaZ6OnvnfZbUVYBNF4kpHZyIpLHTXZ1NnME0eupJMKVptraDdwt/H4UeD7ZAkB8FrgSaXUBICIPAncp5T6EvA9AKVUVESeAzZUuJ6S6GnzcrbE4S4mZsfRnXUKFJts7mrh8SOX8x5zwpi+ZXshaPFw/PKMJe91emSOPQeHeMfLt5TcQ6hUtnS38Njhy0TiiWVzw02LoMPCPjawmO10enSuLCEIRxN1b0LodAitPldei2B4ZgGlYMMKFYK+zmbiScWRodQNQ72tsGwqDRb3KKUuAxi/czXxXg9czNi+ZOxLIyLtwC8DeytcT0lUMtzjwMAUfZ3Ndc9g2NzVzGQotmxl5umROT7y2HG2dvvZ0m3PqmKToIUWwd8a1sA7XlF9192WLj9JtbTVcDbjcxECTW48LmvzM0whOFNmnCAUq3/6KKRqCfK1mTC7rK5Ui6DPSCE9YMyvqPd1I5uCf5Ui8pSIHMnxs7vIz8jluEx7bUXEBXwJ+Ful1Nk863iniOwTkX2jo6NFfnR+egI+Zhfi6X4rxaKU4rmByZrOH1iOzV2pC0GuzKHR2Qhv+9zPcTuFz73tzrpWjxZDR7OHqVCs5DnA2ZwemeXbh4b4Ly/dVJMvnCmw+XoOjVVpRm2n30On31N2wDgUqX+wGIwOpHmEYLGqeGX1GTIxrXHTk2C3GEHBK4NS6l6l1E05fr4FDIvIWgDj90iOt7gEbMzY3gAMZWw/ApxSSn2iwDoeUUrtUkrt6u62JmBU7sjKy9MLjMxGajaRLB+bzcyhrFqCcDTB2/95H6OzET794B22DxTDork8WWRL4uX4m72naXI7+e1XbLViWQUpph11NYuItnWXlzkUTySJJpJ1Tx8FaG/y5O03NLhC20uYrA004XYKJ40CRitbXVtBpbeIe4AHjccPAt/KccwTwGtEpENEOoDXGPsQkQ8DAeD3K1xHWSzWEpSWOWSad/UqJMtkY2eqA2Zm+mIiqfi9Lx/g0KUp/vaBW2veEK9crKguPjk8y78dGuLBl/bXrGin1eemu9Wbt6jM7DxaDbYazedKHVsZitW/4ZxJoCn/cJqhqTBdLZ6yC//qjdMhbOhoJqlSf+f1SjlfjkqF4K+AV4vIKeDVxjYisktEPgVgBIk/BDxr/HxQKTUhIhuA9wPbgedE5HkReXuF6ymJNWUWlR0YmMTrcnB9b1s1llUSXpeT9R1NnMvwT3/4O8f492PDfOD123nNjb11XF1pmBfu8QqKyv527yma3U7e8fLapvVu6fLnTeMdr5JrCFJxgqlQrOSqbDsMpTEJFJhSNji1suYQ5MK0yu1WVQwVZg0ppcaBe3Ls3we8PWP7M8Bnso65RO74Qc1It5koVQguTnHz+oDlgb9y6Q/6OWfksX/mx+f47E/O89DLNvObd22u88pKw7xjnpwvzzV0cniW7xy+zLt+YWvNv2xbult44uiVnM/FE0kmQ9GqpQymM4dG5kqKiZg9quxgEbQbFoFSKue8hsGpcMkzpe3GJkMI7DSi0sQeV7I60eJ10eJ1lRQjiMaTHB6ctoVbyGRLl5/zYyEeP3KFD33nGK+9sYf//rob6r2skll0DZVnEfzN3lP4Pa6aWwOQ+j+YmI/m9HNPhmIoRdWqSTOFoBRCNhhcbxJochNLqPSaMlFKGQNpVrZFYAaM7ZY6Cg0uBJCqJSjFNXTs8gzReNIWgWKT/i4/c5E4/++XDrBjQzufePOttvNBFoPZjricxnMnrszy2OHL/OZL++mog+ltZg7lcg+lZ9RW6U5wXSDV5qJUIQjbKEaQrxX1xHyUhVhyxQaKTcwUUruljoIWAnoDvpKEwEz/spNFYGat9AZ8fOrBXbbw+ZaD2+kg0OQuK1j8N3tP4ve4ePvL6+MO22JUJ+cqUKz2aEKRVHV0qYPs7eQayteBdGgq9f1c8UKQdg1pi8B29LT5SsoaOjAwxdqAj7U2an61q7+TX9u1gc+97Q5b3m2UQtDvKdkieOHKDI8dvsLb7uqvW1reho4mXA7JmTk0Nme2l6je2raV0XwuHSx228E1lDo3Uzk6kA5OpRIhNqywEZXZbO7yc1tfO3fYsPlj/f8C6kxKCBaKbtp14OKkrawBSMU6Pnb/jnovwxI6/R4mSmw89zdPnaLV6+Khl9UvOO52OugL5p5fnLYIqhgk3LamhW8eGGQuEqfFW9zX2vTH+732sQhyVRcPrhKLwOd28q//z131XkZOGt4i6G3zEU+qou5CR2cjXJwI173R3Gqm1MZzx4Zm+O6R+loDJlu6/LldQ/MRnA6p6lxrs3FeKa0mzDoCO7gSzRhBbtdQmCa3k47m2s8FbxQaXgh6SqgleP6ifQrJVivBFg8TeSpMs/nHH5yh1efioZfVrx24yZbuFs6Nz5PI6nttTqSq5kCVcjKHQukYQf0dA/mCxYOTYda1+3KmlWqsoeGFwKwlKEYIDgxM4nIIN60PVHtZDUun38PkfLToKtn95ye45/o1BGxwt7ily080nkz3xTEZs3hofS42BZtxOaSkaWWhdIyg/hZBk9uJ2yk5+w0NTYdZ32H/FikrGS0EbcUXlR0YmGL7urYVW+a+Euho9hBPKmbChRsBzkfiDE0vlD143mrM7K3sFNKJ+UjVg/hup4P+Ln9JFkE4lsDndtgi1VhECDR5crqGBifDrF+hzeZWCg0vBF0tHhwCwwWKyuKJJAcvTXHrCunbs1IxUyyLaTNh+uPtIgSLKaRLL8bVbC+RybbultJiBNG4LdxCJoEm11XB4oVYgvH56IodUblSaHghcDkddLV4C1oER4dmCEUTtiokW410Gpk1xQSMT4+mBu7YRQi6Wjy0+lxXZQ5Vs+FcJtvWtHBhIkQ0Xlwb71AkYQu3kEl7s+eq9FGz6+j6FZ46ancaXgggFSe4UqCW4As/u0CT28nd163MmakrhWC68VwRQjAyh9Mh9HXaY+COiFyVObQQSzAXidfGIljTQiKprmpJvhyhaMIWqaMm7Tk6kA6t8PbTKwUtBBi1BHlcQyOzC3zr+SHuv31D3VMUVzultKI+MzLPpmCzbZr/Qco9lOkaMgWtmsVkJqVmDoViCZps5RpyXxUjMIVgpfcZsjv2+QbVkd42H8N5hth/4acXiCWT/FYdC5YahVKE4PToHNsqHDxvNVu6/AxNL6SrdsfnqttnaMlnG/2OihaCSJxmG7mGcrWiHpwMI7KY3aepDloISP2RTYViLMSu7nwYjib4/M8ucO8NPemsEE318LmdNHucBYUglkhyfmzeNvEBk83dS6eVmVXFnTWwCJo9Lta3NxUvBFF7zCs2CTS5mV2ILxlVOji1QE+rz/ZjVlc6+uwCa1pTd2u5agn+9cAlJkMx3q6tgZpRTHXxwESIeFKlK2rtwhZjhvRZYz5Eus9QjXrQl9JzKBxL0FxkO4pa0G62mVhYTB0enArpQHEN0EJAxoCarDhBMqn49I/PcfP6AHfasFHUaqWYxnPmxc52FoE5v9gIGJv/jlr1oN+2JtWFNLu6ORehqP1cQ7C0unhoakEHimuAFgKWLyr7/skRzo7O8/aXb9bl7TUkZRHkz+IyhWCrzYSgyeNkXcCXLiobn4vgcztq5oLZtqaFSDzJ4GS44LGhSMIWfYZM2s0OpEaLkWRScXl65Q+kWQloIQB6DItgJCuF9FM/OsfagI/X3by2HstqWDr93oIdSM+MzLE24Cu602YtycwcMmsIanUjkc4cMmoslkMpRShmr/TRbItgdC5CLKF0VXEN0EIAtHpdNHucSyyCo0PT/MeZcX7zpf06UFVjgi0p11C+fkNnRudsFx8w2WwMsldKMTYfrUnqqImZRVUoThBNJEkklc0qi5cKgS4mqx0VXeFEpFNEnhSRU8bvnGW3IvKgccwpEXkwx/N7RORIJWupBBGhp823RAg+/aNzNHucPHBnX72W1bB0+j1E4sn0KMVslFKcGbVfxpDJlm4/swtxxuaijM9Fqja0Phcdfg9Bv6egEIQi9mk4Z9KeLQSTupisVlR6q/swsFcpdQ2w19hegoh0Ah8AXgTcCXwgUzBE5D8BpY1WqgI9bd50UdmV6QX2HBzi13ZtrGoPeU1uOo2ivfFl3ENXZhaYi8RtFx8wMXsOnRubN1xDtS1C3FpE5lDIRvOKTdqyxlXqquLaUakQ7AYeNR4/CrwxxzGvBZ5USk0opSaBJ4H7AESkBXgP8OEK11ExvRkWwT//9DxJpfitu3TKaD0oVFSWDhR327OuY4uROXRmdI7x+dpaBLCYQprPtRaOGrMIbBRjcTsdtHhdaSEYnArT6nPR5tM3Y9WmUiHoUUpdBjB+r8lxzHrgYsb2JWMfwIeA/wWEKlxHxfQEfIzMRJiPxPniMwO89sZe+oK6B3o9MIuvlhOCMzZNHTVZ196Ex+Xg4MUpYglV0xgBwDVrWphZiDM6t3zmlTmLwE7po5CKE5iuoaEpnTFUKwreDojIU0BvjqfeX+Rn5EqXUCKyE9imlPpvItJfxDreCbwToK/Per99b5uPaCLJ//nRWabDMd7+cm0N1ItCjedOj87R5nPRXeM77WJxOoTNQT/Pnp8AaldDYJLZc2hNa+6Mm/mI/VxDYApB6v99cGpBC0GNKGgRKKXuVUrdlOPnW8CwiKwFMH6P5HiLS8DGjO0NwBDwEuB2ETkP/Bi4VkS+n2cdjyildimldnV3W98B1KwleOSHZ9m5sZ3bdLvpurHoGsp9R3t6ZI5ta1psXduxucvPGaOorBZ9hjIxhSDfbIJwLOUaslMdAaRGVi4Gi0M6PlAjKnUN7QHMLKAHgW/lOOYJ4DUi0mEEiV8DPKGU+kel1DqlVD/wMuCkUuruCtdTNmsMIQhFE7zj5VtsfZFZ7bR4XXicjuUtgpF526aOmmzJiF/U2iLobUvVV+QLGJuuIb+NYgSw2IF0diHGzEJcp47WiEqF4K+AV4vIKeDVxjYisktEPgWglJogFQt41vj5oLHPVphtJta3N/HaG3vqvJrGRkTo8LuZzCEE06EY2uW1ZgAACmVJREFUY3MR28YHTLZkCFW1x1RmIyJs7fbnnV9sp3nFmZgWwdBUKnFDWwS1oaLbAaXUOHBPjv37gLdnbH8G+Eye9zkP3FTJWiplTauXvs5mfveVW3HpArK60+n35gwWmxc3uwtBZqfajjrMsNi6poUfnBhldiFGa46sm1DEyBqymWuorcnNVDjG4FQqf0RXFdcGfcUzcDsd/PCPX8mb79AFZHZgucZzZ9Kpo/YWAjO1NdDkrsvgnF/esY7pcIxf+Yf/4PzY1RPLzDoCu7mG2ps8ROPJ9JS39e06c68WaCHQ2JLlWlGfGZ3D43KwsdPeF4j2Zg8dze6axwdMXnndGv75oTsZm4uw+5M/4T9Ojy15PhxNIAJeG013g5RrCODY0Awuh9Ddas/MsNWGvf4KNBqDTr8nZ+O50yNzbOny43TYP5h/w9q2uqY/vnRrF3t+92X0tHn5jc/8nM//9Hz6uflIgma303ZJEWYl/7HLM6xt962I/+fVgBYCjS0J+j3MRuJE4kv7DZ0enbNta4lsPv7mnfz1m3bUdQ19wWa+8a6X8srruvmTbx3l/d88TCyRJByL22pesYnZb+j0yBzrAjpQXCvs95eg0bBYXTw5H6M3kApoLsQSXJwIsXvn+nwvtQ09bfYIdLb63Px/v7GLv/73E/zj989wemQOr9tpqxbUJma/oXhS6dTRGqKFQGNLzMZzE/PRdGrv+fF5ksr+GUN2xOkQ3nvf9VzX08off+MQ0XiS63tb672sqzBjBICuKq4h2jWksSW5Gs+lx1PaPGPIzrzx1vV89bdfwppWry0DsZndfnUNQe3QFoHGlpjZNuMZbSZOj8whsrRqV1M6Oze2s/cPfoEixhrXnBavC6dDSCSVtghqiLYINLak0+jPk20RbOhowmezatiVSKvPbctZGyKSDhhri6B2aCHQ2JL2JjcOWSoEZ0bntVuoATAFSlsEtUMLgcaWOBxCR/NidXEiqTg7OqcDxQ1AoNlNp99ju86oqxkdI9DYlg6/J914bnAyTCSetH1rCU3lbOhoxqP7fdUULQQa29KZ0W/o9OgsoFNHG4EPv/EmknaMZK9itOxqbEswo9/QmZFUEzItBKufQJObDn99ejQ1KloINLYls/Hc6ZE5ulo8tNehpbNGs9rRQqCxLUG/h8lQlERScXp0bsmwF41GYx1aCDS2pdPvQSmYCkXTc4o1Go31aCHQ2JZOY8TjyeE5psMxXUOg0VQJLQQa22I2nnv2fGrEtbYINJrqoIVAY1vMxnOmEKyUOQQazUqjIiEQkU4ReVJEThm/O5Y57kHjmFMi8mDGfo+IPCIiJ0XkBRH51UrWo1ldmI3n9l+YpNnjZF3AHv39NZrVRqUWwcPAXqXUNcBeY3sJItIJfAB4EXAn8IEMwXg/MKKUuhbYDvygwvVoVhEdhmsoFE2wtbvFdmMVNZrVQqVCsBt41Hj8KPDGHMe8FnhSKTWhlJoEngTuM577LeAvAZRSSaXUWI7XaxoUj8tBqy9V/L5Vt57WaKpGpULQo5S6DGD8XpPjmPXAxYztS8B6EWk3tj8kIs+JyNdEpKfC9WhWGUEjTqADxRpN9SgoBCLylIgcyfGzu8jPyGXPK1J9jjYAP1FK3Qb8FPjrPOt4p4jsE5F9o6OjRX60ZqXToYVAo6k6BZvOKaXuXe45ERkWkbVKqcsishYYyXHYJeDujO0NwPeBcSAEfNPY/zXgoTzreAR4BGDXrl26I1WDoC0Cjab6VOoa2gOYWUAPAt/KccwTwGtEpMMIEr8GeEIppYBvsygS9wDHKlyPZpXR6ffgdAh9nTpGoNFUi0rbUP8V8FUReQgYAN4EICK7gN9RSr1dKTUhIh8CnjVe80Gl1ITx+L3A50XkE8Ao8LYK16NZZbzlzj62r23D49IlLxpNtZDUjfnKYteuXWrfvn31XoZGo9GsKERkv1JqV/Z+fZul0Wg0DY4WAo1Go2lwtBBoNBpNg6OFQKPRaBocLQQajUbT4Ggh0Gg0mgZHC4FGo9E0OFoINBqNpsFZkQVlIjIKXCjz5V2AXdtd67WVh15beei1lcdKXtsmpVR39s4VKQSVICL7clXW2QG9tvLQaysPvbbyWI1r064hjUajaXC0EGg0Gk2D04hC8Ei9F5AHvbby0GsrD7228lh1a2u4GIFGo9FoltKIFoFGo9FoMmgYIRCR+0TkhIicFpGH672ebETkvIgcFpHnRaSuwxZE5DMiMiIiRzL2dYrIkyJyyvjdYaO1/ZmIDBrn7nkReV0d1rVRRL4nIsdF5KiI/J6xv+7nLc/a6n7ejHX4ROTnInLQWN+fG/s3i8gzxrn7ioh4bLKuz4nIuYzztrOW68pao1NEDojIvxnb5Z0zpdSq/wGcwBlgC+ABDgLb672urDWeB7rqvQ5jLa8AbgOOZOz7GPCw8fhh4KM2WtufAX9Y53O2FrjNeNwKnAS22+G85Vlb3c+bsSYBWozHbuAZ4MXAV4EHjP3/BLzLJuv6HHB/vc+bsa73AP8C/JuxXdY5axSL4E7gtFLqrFIqCnwZ2F3nNdkWpdQPgYms3buBR43HjwJvrOmiDJZZW91RSl1WSj1nPJ4FjgPrscF5y7M2W6BSzBmbbuNHAa8Cvm7sr/m5y7MuWyAiG4BfAj5lbAtlnrNGEYL1wMWM7UvY6ItgoIB/F5H9IvLOei8mBz1KqcuQurAAa+q8nmzeLSKHDNdRXdxWJiLSD9xK6g7SVucta21gk/NmuDieB0aAJ0lZ8FNKqbhxSF2+s9nrUkqZ5+0jxnn7uIh4a70ug08Afwwkje0gZZ6zRhECybHPNspucJdS6jbgF4HfFZFX1HtBK4h/BLYCO4HLwP+q10JEpAX4BvD7SqmZeq0jFznWZpvzppRKKKV2AhtIWfA35Dqstqu6el0ichPwPuB64A6gE3hvrdclIq8HRpRS+zN35zi0qHPWKEJwCdiYsb0BGKrTWnKilBoyfo8A3yT1ZbATwyKyFsD4PVLn9aRRSg0bX9gk8H+o07kTETepC+0XlVL/auy2xXnLtTa7nLdMlFJTwPdJ+eLbRcRlPFXX72zGuu4zXG1KKRUBPkt9zttdwBtE5DwpV/erSFkIZZ2zRhGCZ4FrjIi6B3gA2FPnNaUREb+ItJqPgdcAR/K/qubsAR40Hj8IfKuOa1mCeaE1+BXqcO4M/+yngeNKqf+d8VTdz9tya7PDeTPW0S0i7cbjJuBeUnGM7wH3G4fV/Nwts64XMoRdSPnga37elFLvU0ptUEr1k7qePa2U+nXKPWf1jnrXMLr+OlLZEmeA99d7PVlr20Iqk+kgcLTe6wO+RMpVECNlTT1Eyv+4Fzhl/O600do+DxwGDpG68K6tw7peRsoMPwQ8b/y8zg7nLc/a6n7ejPXdAhww1nEE+FNj/xbg58Bp4GuA1ybreto4b0eAL2BkFtXrB7ibxayhss6ZrizWaDSaBqdRXEMajUajWQYtBBqNRtPgaCHQaDSaBkcLgUaj0TQ4Wgg0Go2mwdFCoNFoNA2OFgKNRqNpcLQQaDQaTYPz/wOG2pmePAX1pAAAAABJRU5ErkJggg==\n",
      "text/plain": [
       "<Figure size 432x288 with 1 Axes>"
      ]
     },
     "metadata": {
      "needs_background": "light"
     },
     "output_type": "display_data"
    }
   ],
   "source": [
    "from statsmodels.tsa.stattools import acf\n",
    "\n",
    "acf_data = acf(errors)\n",
    "\n",
    "plt.plot(acf_data[1:])\n",
    "plt.show()"
   ]
  },
  {
   "cell_type": "markdown",
   "metadata": {},
   "source": [
    "They are not correlated"
   ]
  },
  {
   "cell_type": "code",
   "execution_count": null,
   "metadata": {},
   "outputs": [],
   "source": []
  }
 ],
 "metadata": {
  "kernelspec": {
   "display_name": "Python 3",
   "language": "python",
   "name": "python3"
  },
  "language_info": {
   "codemirror_mode": {
    "name": "ipython",
    "version": 3
   },
   "file_extension": ".py",
   "mimetype": "text/x-python",
   "name": "python",
   "nbconvert_exporter": "python",
   "pygments_lexer": "ipython3",
   "version": "3.7.3"
  }
 },
 "nbformat": 4,
 "nbformat_minor": 2
}
